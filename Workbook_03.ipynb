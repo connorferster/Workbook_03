{
 "cells": [
  {
   "cell_type": "code",
   "execution_count": 1,
   "id": "94c507ca-e1ae-4b6a-a25d-dffdbabf21ff",
   "metadata": {},
   "outputs": [],
   "source": [
    "from sympy.physics.continuum_mechanics.beam import Beam\n",
    "from sympy import symbols"
   ]
  },
  {
   "cell_type": "markdown",
   "id": "f6fce838-181b-43f2-8401-79b06c460864",
   "metadata": {
    "tags": []
   },
   "source": [
    "# Workbook 03\n",
    "\n",
    "## Useful technique for this workbook: Unpacking\n",
    "\n",
    "A kind of shortcut for splitting up items in a list in Python is called, \"unpacking\". You have seen this already in the tutorials for the sympy Beam module which look like this:\n",
    "\n",
    "```python\n",
    "E, I = symbols(\"E I\")\n",
    "```\n",
    "Here is another example:\n",
    "```python\n",
    "R1, R2 = symbols(\"R1 R2\")\n",
    "```\n",
    "\n",
    "### What is happening here?\n",
    "\n",
    "The sympy `symbols` function takes a string of symbols separated by commas, spaces, or commas and spaces and return the symbol objects as items in a list. In the cases above, lists with two items each. Using \"unpacking\" we can assign each item in the list to its own variable in just one line.\n",
    "\n",
    "More examples:\n",
    "```python\n",
    "my_list = [\"cat\", \"bat\", 43]\n",
    "item_1, item_2, item_3 = my_list\n",
    "```\n",
    "\n",
    "This is less to type than this:\n",
    "```python\n",
    "my_list = [\"cat\", \"bat\", 43]\n",
    "item_1 = my_list[0]\n",
    "item_2 = my_list[1]\n",
    "item_3 = my_list[2]\n",
    "```\n",
    "\n",
    "Try running the above `my_list` example and try printing out `item_1`, `item_2`, `item_3` to verify for yourself how it works."
   ]
  },
  {
   "cell_type": "code",
   "execution_count": null,
   "id": "4db57b64-64df-427d-8a3a-9cfcde048848",
   "metadata": {},
   "outputs": [],
   "source": []
  },
  {
   "attachments": {
    "b1a039bd-8b82-4232-8d29-b5056e0c9a55.png": {
     "image/png": "[encoded data removed]"
    }
   },
   "cell_type": "markdown",
   "id": "8c06dc94-19b1-4ad2-8be4-f074339a2e38",
   "metadata": {
    "tags": []
   },
   "source": [
    "**Caution**\n",
    "If you try to unpack a list, you _must_ have the same number of items in the list as there are variables to unpack to. Otherwise, you will get a `ValueError`:\n",
    "\n",
    "```python\n",
    "my_list = [\"cat\", \"bat\", 43]\n",
    "item_1, item_2, item_3, item_4 = my_list\n",
    "```\n",
    "![image.png](attachment:b1a039bd-8b82-4232-8d29-b5056e0c9a55.png)"
   ]
  },
  {
   "cell_type": "code",
   "execution_count": null,
   "id": "4202bd7b-c338-4e55-b104-54856c394e24",
   "metadata": {},
   "outputs": [],
   "source": []
  },
  {
   "cell_type": "markdown",
   "id": "4781b3f1-44ac-4f57-a827-2f800c6dd72f",
   "metadata": {},
   "source": [
    "# Task A\n",
    "\n",
    "1. Use the \"file opening template\" to open \"beam_1.txt\" with the `.read()` method and assign the file data to a variable `beam_data`\n",
    "2. Turn the file data into a list of lines using `.split()`\n",
    "3. Loop through each of the lines in the file and print them to the notebook"
   ]
  },
  {
   "cell_type": "markdown",
   "id": "8aaeb2de-a1d6-41c1-98c9-a3968d09a080",
   "metadata": {},
   "source": [
    "## Task A response"
   ]
  },
  {
   "cell_type": "code",
   "execution_count": null,
   "id": "23fac378-9e47-4a1e-99d6-ab90d55b4242",
   "metadata": {},
   "outputs": [],
   "source": []
  },
  {
   "cell_type": "markdown",
   "id": "29fe385d-1c60-45fe-9dbb-09f74ec22913",
   "metadata": {},
   "source": [
    "# Task B"
   ]
  },
  {
   "cell_type": "code",
   "execution_count": 2,
   "id": "a8702834-7158-477f-aa12-d2c8b2d33f2d",
   "metadata": {},
   "outputs": [],
   "source": [
    "lines = [\n",
    "    \"4800, 19200, 1000000\",\n",
    "    \"0, 3000\",\n",
    "    \"100, 500, 0\",\n",
    "    \"200, 3600, 0\",\n",
    "]"
   ]
  },
  {
   "cell_type": "markdown",
   "id": "b1329923-5ff7-412f-9a0e-f836c332376b",
   "metadata": {},
   "source": [
    "1. Use the \"transforming\" recipe to loop through all of the numbers in just the first line of `lines` (remember, you will need to split the line up first). Convert each number string into an `int` and save each in your accumulator.\n",
    "2. Do the same thing with the second line, the beam support locations.\n",
    "3. Now, use the \"double loop\" recipe to loop through 1) the lines of the loads, then 2) the items in each line (see Lesson 02 reference if you need a refresher on how to slice a list to start at the third line and go to the end). Convert each load parameter into an `int` and accumulate it into a list of lists of ints."
   ]
  },
  {
   "cell_type": "markdown",
   "id": "a5c8aeeb-73de-487b-9bf9-1c630a6e6bde",
   "metadata": {},
   "source": [
    "## Task B response"
   ]
  },
  {
   "cell_type": "code",
   "execution_count": null,
   "id": "bfd65087-3a5f-40b3-950c-5efbe68cde39",
   "metadata": {},
   "outputs": [],
   "source": []
  },
  {
   "cell_type": "markdown",
   "id": "ff997918-8ae3-4c49-b3ca-fb31d7509d5f",
   "metadata": {},
   "source": [
    "# Task C"
   ]
  },
  {
   "cell_type": "code",
   "execution_count": 3,
   "id": "126454e1-692d-4b7b-aebb-0bfeac80d904",
   "metadata": {},
   "outputs": [],
   "source": [
    "L_E_I = [4800, 19200, 80000]\n",
    "supports = [0, 2000, 4800]\n",
    "loads = [\n",
    "    [100, 500, 0],\n",
    "    [200, 3600, 0],\n",
    "]"
   ]
  },
  {
   "cell_type": "markdown",
   "id": "87603a8c-6ecc-4173-975e-0e86fe708eaf",
   "metadata": {},
   "source": [
    "Using the extracted data above (`L_E_I`, `supports`, `loads`), perform the following:\n",
    "\n",
    "_Hint_: Use the \"unpacking\" syntax inject the elements of the list into the arguments of the `Beam` (see Lesson 03 Reference).\n",
    "\n",
    "1. Create a new `Beam` object with the elements of `L_E_I`\n",
    "2. Using the \"transforming\" recipe, loop through `loads` and add each load to the beam with `.apply_load()`.\n",
    "3. Using the \"enumeration\" recipe, loop through `supports` and perform all of the steps required to add the supports to the beam:\n",
    "    1. Create a sympy symbol to represent each reaction. Use the enumerator to create symbols that look like this, `\"R0\"`, `\"R1\"`, `\"R2\"`, etc.\n",
    "    2. Add the reaction symbol to your accumulator\n",
    "    3. Use `.apply_load()` to add the symbol and support location as a point load support\n",
    "    4. The beam object has an _attribute_ that we have been using called `.bc_deflection`. This attribtue is an empty list until we put things into it. We can `.append()` to it just like an accumulator. Create the boundary condition as a tuple (like a list but with parentheses) with the support location and `0` to indicate no deflection.\n",
    "    5. After the loop, call `.solve_for_reaction_loads()` with the reaction symbols in your accumulator passed as the arguments.\n",
    "    "
   ]
  },
  {
   "cell_type": "markdown",
   "id": "567ad8e7-f28b-4820-8e80-ca4ac1a24b3d",
   "metadata": {},
   "source": [
    "## Task C response"
   ]
  },
  {
   "cell_type": "code",
   "execution_count": null,
   "id": "1e434b73-20d6-405b-b90b-85108221890b",
   "metadata": {},
   "outputs": [],
   "source": []
  },
  {
   "cell_type": "markdown",
   "id": "03611f23-d1ba-4a71-832a-59b616c82a19",
   "metadata": {},
   "source": [
    "# Task D\n",
    "\n",
    "Using the steps that you have practiced in **Task A**, **Task B**, and **Task C**, write a new script to read a beam file, separate the data into lists like in **Task A**, transform the string data into integers like in **Task B**, and accumulate them into lists similar to those seen in **Task C**. \n",
    "\n",
    "Input the data accumulated into the lists into a new beam object. Solve for the reaction loads, print the reaction loads, and plot the shear, moment, and deflection diagrams like you did in Workbook 01 and Workbook 02."
   ]
  },
  {
   "cell_type": "markdown",
   "id": "7110dcd6-036f-4fa5-873c-f659e6aed06b",
   "metadata": {},
   "source": [
    "## Task D response"
   ]
  },
  {
   "cell_type": "code",
   "execution_count": null,
   "id": "b163bf78-285d-44d0-b0ad-6a4e4df37076",
   "metadata": {},
   "outputs": [],
   "source": []
  },
  {
   "cell_type": "markdown",
   "id": "6d52626f-fc63-4d39-b341-8dd8bb51dd5c",
   "metadata": {},
   "source": [
    "# Task E\n",
    "\n",
    "1. Create a new variable at the top of your **Task D** script called `file_name` that holds the string of the file name to analyze. Replace your `with open()...` line so that it opens the variable, `file_name` instead.\n",
    "2. Change out the file names with `beam_1.txt`, `beam_2.txt`, and `beam_3.txt` to see the analysis results change.\n",
    "4. Rename your **Task D** to **Beam Analysis: Beam File Reader Script**\n",
    "3. Create a new `beam_4.txt` file and put in all new values representing a new beam to analyze. Note that you have to include values for `E` and `I` in the file format for your script to read it properly. What happens if you don't include `E` and `I` in the first line of the file? Try writing some more files and running them! Did any of your experiments \"break\" your script or cause an error? If so, why do you think that is?\n",
    "4. You have now written a script that will read in a series of beam parameters from a text file, solve the beam, and plot the results. However, this script has some limitations, including:\n",
    "    1. It can only read one beam per file\n",
    "    2. It can only handle point load reactions\n",
    "    3. It can only handle deflection boundary conditions\n",
    "    \n",
    "Do you have any ideas on what we would need to do in order for it to be able to read multiple beams in one file with any kind of support conditions?\n",
    "\n",
    "That will be what we work on next week!"
   ]
  },
  {
   "cell_type": "code",
   "execution_count": null,
   "id": "c8cdc90e-3742-42bf-b375-b51005a84aa2",
   "metadata": {},
   "outputs": [],
   "source": []
  },
  {
   "cell_type": "markdown",
   "id": "9efd2c9d-ccaa-450c-bd12-0245a0727c46",
   "metadata": {
    "tags": []
   },
   "source": [
    "# 🧗 Submit Workbook 03\n",
    "\n",
    "Now you are getting a sense of how you can use Python code to automate tasks. Using `for` loops is a big part of this. But, there is something missing: the ability to make decisions in your `for` loop. Next week, we will learn about using `if`, `elif`, and `else` to handle this automatic decision making process which will allow our beam reading script to handle any kind of input.\n",
    "\n",
    "For now, email your completed workbook to me at `cferster@rjc.ca` with the subject line `Workbook 03 Submission`"
   ]
  },
  {
   "cell_type": "markdown",
   "id": "49393780-f460-412c-bf4b-06c40ffb8c2e",
   "metadata": {},
   "source": [
    "# Bonus\n",
    "\n",
    "Write a `for` loop that changes the file names of each beam txt file to this format:\n",
    "\n",
    "```\n",
    "RJC.012345.1234-PYTHON-COURSE-BEAM_1.txt\n",
    "```"
   ]
  },
  {
   "cell_type": "code",
   "execution_count": null,
   "id": "158cb500-2b1a-4fa5-9fb1-bea92ba1442d",
   "metadata": {},
   "outputs": [],
   "source": []
  }
 ],
 "metadata": {
  "kernelspec": {
   "display_name": "Python 3 (ipykernel)",
   "language": "python",
   "name": "python3"
  },
  "language_info": {
   "codemirror_mode": {
    "name": "ipython",
    "version": 3
   },
   "file_extension": ".py",
   "mimetype": "text/x-python",
   "name": "python",
   "nbconvert_exporter": "python",
   "pygments_lexer": "ipython3",
   "version": "3.9.7"
  }
 },
 "nbformat": 4,
 "nbformat_minor": 5
}
