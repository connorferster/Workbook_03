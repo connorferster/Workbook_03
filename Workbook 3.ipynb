{
 "cells": [
  {
   "cell_type": "code",
   "execution_count": 3,
   "metadata": {},
   "outputs": [],
   "source": [
    "word_soup = \"\"\"baseball Cat PIGEON crafting order Nature wood characTer joist pigeon COMPOUND yarn Vinyl cat SILVER\n",
    "Pepper JOINT screw compound vinyl carotid SILLY flabberghasted CARDIOid nature golD figure synedoche Joist\n",
    "TERMITE carpet polyLine salt figure CAT SYNEDOCHE phrase GARBAGE pig EON VINYL final rauCOUS fashion leather\n",
    "VINYL natural single LIVING like comMERCIAL siLLY jargon FLUBBER gold joint hammer sIMPLex RACK songs AT\n",
    "HarVEST moon Silver songs at build it and BASEBALL for joist peony palpatation ANECDOTE feathering pervious lowboy\n",
    "PROTECTOR ingenious Gold flabberGHASTED simple x-ray cardioid kangAROO Pig time latin termite early day at the inner\n",
    "joist CARNIVAL sugar pepper plum pickling carpet SIMPLE VEHicle compouND icicle sickle at the foreground in\n",
    "PLays cat and doges sigmoid proof annivERSARY of carotid naturE salamander protector of leather at Harvest\n",
    "\"\"\""
   ]
  },
  {
   "cell_type": "markdown",
   "metadata": {},
   "source": [
    "## Task 1"
   ]
  },
  {
   "cell_type": "code",
   "execution_count": 17,
   "metadata": {},
   "outputs": [
    {
     "name": "stdout",
     "output_type": "stream",
     "text": [
      "Words in word_soup as lower case: ['baseball', 'cat', 'pigeon', 'crafting', 'order', 'nature', 'wood', 'character', 'joist', 'pigeon', 'compound', 'yarn', 'vinyl', 'cat', 'silver', 'pepper', 'joint', 'screw', 'compound', 'vinyl', 'carotid', 'silly', 'flabberghasted', 'cardioid', 'nature', 'gold', 'figure', 'synedoche', 'joist', 'termite', 'carpet', 'polyline', 'salt', 'figure', 'cat', 'synedoche', 'phrase', 'garbage', 'pig', 'eon', 'vinyl', 'final', 'raucous', 'fashion', 'leather', 'vinyl', 'natural', 'single', 'living', 'like', 'commercial', 'silly', 'jargon', 'flubber', 'gold', 'joint', 'hammer', 'simplex', 'rack', 'songs', 'at', 'harvest', 'moon', 'silver', 'songs', 'at', 'build', 'it', 'and', 'baseball', 'for', 'joist', 'peony', 'palpatation', 'anecdote', 'feathering', 'pervious', 'lowboy', 'protector', 'ingenious', 'gold', 'flabberghasted', 'simple', 'x-ray', 'cardioid', 'kangaroo', 'pig', 'time', 'latin', 'termite', 'early', 'day', 'at', 'the', 'inner', 'joist', 'carnival', 'sugar', 'pepper', 'plum', 'pickling', 'carpet', 'simple', 'vehicle', 'compound', 'icicle', 'sickle', 'at', 'the', 'foreground', 'in', 'plays', 'cat', 'and', 'doges', 'sigmoid', 'proof', 'anniversary', 'of', 'carotid', 'nature', 'salamander', 'protector', 'of', 'leather', 'at', 'harvest']\n"
     ]
    }
   ],
   "source": [
    "# Create an empty variable called `lower_soup`\n",
    "# Use a transforming loop to first Split the long string 'word_soup' into a list of words so you can \n",
    "# loop through each word (see Lesson 2 for the str method that will split a string into a list).\n",
    "#    Each task will require you to loop through the words in word_soup so assign your split list to a variable for later.\n",
    "# Then convert all of the words in word_soup into lower case words and append the lower case word to your lower_soup list\n",
    "# Finally, print out lower soup with an f-string so it reads as follows:\n",
    "# \"Words in word_soup as lower case: [...]\"\n",
    "split_words = word_soup.split()\n",
    "lower_soup = []\n",
    "for word in split_words:\n",
    "    lower_soup.append(word.lower())\n",
    "print(f\"Words in word_soup as lower case: {lower_soup}\")"
   ]
  },
  {
   "cell_type": "markdown",
   "metadata": {},
   "source": [
    "## Task 2"
   ]
  },
  {
   "cell_type": "code",
   "execution_count": 15,
   "metadata": {},
   "outputs": [
    {
     "name": "stdout",
     "output_type": "stream",
     "text": [
      "['order', 'characTer', 'Pepper', 'leather', 'hammer', 'Silver', 'for', 'inner', 'sugar', 'pepper', 'salamander', 'protector', 'leather']\n"
     ]
    }
   ],
   "source": [
    "\n",
    "# Create a new variable called 'ends_with_r' that is an empty list\n",
    "\n",
    "# Split the long string 'word_soup' into a list of words so you can loop through each word (see Lesson 2 for the \n",
    "# str method that will split a string into a list).\n",
    "# Use the Filtering loop to write a for loop that will cycle through all of the words in 'word_soup' and\n",
    "# will add words whose last letter ends with \"r\" to your empty list.\n",
    "\n",
    "# IF you don't remember how to find the last letter in a word, see indexing in Lesson 2.\n",
    "\n",
    "ends_with_r = []\n",
    "for word in word_soup.split():\n",
    "    if word[-1] == \"r\":\n",
    "        ends_with_r.append(word)\n",
    "print(ends_with_r)"
   ]
  },
  {
   "cell_type": "markdown",
   "metadata": {},
   "source": [
    "## Task 3"
   ]
  },
  {
   "cell_type": "code",
   "execution_count": 6,
   "metadata": {},
   "outputs": [
    {
     "name": "stdout",
     "output_type": "stream",
     "text": [
      "['PIGEON', 'COMPOUND', 'SILVER', 'JOINT', 'SILLY', 'TERMITE', 'CAT', 'SYNEDOCHE', 'GARBAGE', 'EON', 'VINYL', 'VINYL', 'LIVING', 'FLUBBER', 'RACK', 'AT', 'BASEBALL', 'ANECDOTE', 'PROTECTOR', 'CARNIVAL', 'SIMPLE']\n"
     ]
    }
   ],
   "source": [
    "# Use a filtering loop that will collect all the words in word_soup that are upper case\n",
    "# Remember, you will need to create an empty list first to collect your words. Call the empty list, `uppers`.\n",
    "# Then you will create your loop. If the word passes your upper case filter test, then append that word \n",
    "# to your empty list, `uppers`.\n",
    "# Finally, print out the list `uppers` at the end.\n",
    "\n",
    "uppers = []\n",
    "for word in word_soup.split():\n",
    "    if word.isupper():\n",
    "        uppers.append(word)\n",
    "print(uppers)"
   ]
  },
  {
   "cell_type": "markdown",
   "metadata": {},
   "source": [
    "## Task 4"
   ]
  },
  {
   "cell_type": "code",
   "execution_count": 5,
   "metadata": {},
   "outputs": [
    {
     "name": "stdout",
     "output_type": "stream",
     "text": [
      "golD\n",
      "GARBAGE\n",
      "gold\n",
      "Gold\n",
      "Number of words that begin with g: 4\n"
     ]
    }
   ],
   "source": [
    "# Use the counting loop example in the lesson to complete this task.\n",
    "# Write a loop that will count how many words in 'word_soup' begin with a given letter of the user's choice.\n",
    "# It should be case-independent.\n",
    "\n",
    "# The loop should print out any words that begin with the given letter.\n",
    "\n",
    "# After the loop is complete, print out the count using an 'f-string' so it prints out\n",
    "# a sentence that looks like the following: \n",
    "# \"The number of words that being with 'g': 4\"\n",
    "\n",
    "users_choice = \"g\"\n",
    "count = 0\n",
    "print_this = True\n",
    "for word in word_soup.split():\n",
    "    if word[0].lower() == users_choice.lower():\n",
    "        count += 1\n",
    "        if print_this == True:\n",
    "            print(word)\n",
    "print(f\"Number of words that begin with {users_choice}: {count}\")"
   ]
  },
  {
   "cell_type": "markdown",
   "metadata": {},
   "source": [
    "## Task 5"
   ]
  },
  {
   "cell_type": "code",
   "execution_count": 13,
   "metadata": {},
   "outputs": [
    {
     "name": "stdout",
     "output_type": "stream",
     "text": [
      "COMPOUND\n",
      "TERMITE\n",
      "SYNEDOCHE\n",
      "GARBAGE\n",
      "FLUBBER\n",
      "BASEBALL\n",
      "ANECDOTE\n",
      "PROTECTOR\n",
      "CARNIVAL\n",
      "The filtered results are: ['order', 'joist', 'Vinyl', 'JOINT', 'screw', 'vinyl', 'SILLY', 'Joist', 'VINYL', 'final', 'VINYL', 'siLLY', 'joint', 'songs', 'songs', 'build', 'joist', 'peony', 'x-ray', 'latin', 'early', 'inner', 'joist', 'sugar', 'PLays', 'doges', 'proof']\n"
     ]
    }
   ],
   "source": [
    "# Use a filtering loop that will perform the following:\n",
    "# 1. create an empty list that will collect all words that are more than four letters long and less than six letters long\n",
    "# 2. If words do not meet that criteria, then check to see if they are greater or equal to seven letters long and\n",
    "# are uppercase in which case just print the word out during the loop.\n",
    "# 3. If they do not pass either criteria, do nothing.\n",
    "# 4. After the loop, use an f-string to display the filtered list of results like this:\n",
    "#    \"The filtered results are: [...]\"\n",
    "\n",
    "# New info: use the built-in Python function called `len()` to see how long a word is\n",
    "# e.g. len(\"CAT\") -> this will return 3\n",
    "# len(\"jackrabbit\") -> this will return 10\n",
    "\n",
    "filtered = []\n",
    "for word in word_soup.split():\n",
    "    if 4 < len(word) < 6:\n",
    "        filtered.append(word)\n",
    "    elif len(word) >= 7 and word.isupper():\n",
    "        print(word)\n",
    "print(f\"The filtered results are: {filtered}\")"
   ]
  },
  {
   "cell_type": "markdown",
   "metadata": {},
   "source": [
    "## Task 6"
   ]
  },
  {
   "cell_type": "code",
   "execution_count": null,
   "metadata": {},
   "outputs": [],
   "source": [
    "# Create three new variables with empty lists: filtered_1, filtered_2, filtered_3\n",
    "# Write a loop that will perform the following: (all to be case independent)\n",
    "# 1. If the word begins with the letter \"p\" or begins with \"j\", add to filtered_1\n",
    "# 2. Else, if the word has two consecutive \"m\"s or two consecutive \"o\"s (as in \"command\" or \"tool\"), add to filtered_2\n",
    "# 3. Else, if the word is longer than three letters but less than six letters and does not have the letter \"a\" in it,\n",
    "#   add it to filtered_3\n",
    "# 4. Print your filtered variables using f-strings with some kind of descriptive sentence to show the results.\n"
   ]
  }
 ],
 "metadata": {
  "kernelspec": {
   "display_name": "Python 3",
   "language": "python",
   "name": "python3"
  },
  "language_info": {
   "codemirror_mode": {
    "name": "ipython",
    "version": 3
   },
   "file_extension": ".py",
   "mimetype": "text/x-python",
   "name": "python",
   "nbconvert_exporter": "python",
   "pygments_lexer": "ipython3",
   "version": "3.7.7"
  }
 },
 "nbformat": 4,
 "nbformat_minor": 4
}
