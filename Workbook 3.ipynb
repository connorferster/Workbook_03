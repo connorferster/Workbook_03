{
 "cells": [
  {
   "cell_type": "code",
   "execution_count": null,
   "metadata": {},
   "outputs": [],
   "source": [
    "from cs103 import expect, start_testing, summary"
   ]
  },
  {
   "cell_type": "markdown",
   "metadata": {},
   "source": [
    "## Task 1\n",
    "\n",
    "Design a function that takes four numbers as arguments, `a`, `b`, `c`, `d`. \n",
    "The function is to add `a`, `b`, `c`, `d` together and then divide that value by `4`. It will return a `float`.\n",
    "\n",
    "Call this function `mean_4`. \n",
    "\n",
    "* Start with the **stub** by writing the signature and the doc string\n",
    "* Follow this by writing three tests of expected outputs for expected inputs\n",
    "* Last, write the implementation of the function and make sure your tests pass"
   ]
  },
  {
   "cell_type": "markdown",
   "metadata": {},
   "source": [
    "**Stub/Function:**"
   ]
  },
  {
   "cell_type": "code",
   "execution_count": null,
   "metadata": {},
   "outputs": [],
   "source": [
    "def mean_4(...) -> ...: # To get you started\n",
    "    \"\"\"\n",
    "    Description of function\n",
    "    \"\"\"\n",
    "    return"
   ]
  },
  {
   "cell_type": "markdown",
   "metadata": {},
   "source": [
    "**Tests:**"
   ]
  },
  {
   "cell_type": "code",
   "execution_count": null,
   "metadata": {},
   "outputs": [],
   "source": [
    "start_testing() # Fill in your tests, here\n",
    "expect(mean_4(), ...)\n",
    "expect(mean_4(), ...)\n",
    "expect(mean_4(), ...)\n",
    "summary()"
   ]
  },
  {
   "cell_type": "markdown",
   "metadata": {},
   "source": [
    "### Reviewer comments"
   ]
  },
  {
   "cell_type": "code",
   "execution_count": null,
   "metadata": {},
   "outputs": [],
   "source": []
  },
  {
   "cell_type": "markdown",
   "metadata": {},
   "source": [
    "## Task 2\n",
    "\n",
    "Design a function called `loud` that takes two arguments, a `str` and an `int`. The function is to return the string in all caps with exclamation marks at the end. The number of exclamation marks is to be equal to the value of the `int` argument.\n",
    "\n",
    "An example input and output is given below:\n",
    "\n",
    "```python\n",
    "loud(\"hey, this is me\", 6)\n",
    "# \"HEY, THIS IS ME!!!!!!\"\n",
    "```\n",
    "\n",
    "Be sure to follow the same process as in Task 1 for this and all of the following tasks: first write the stub, then your tests, then write the implementation."
   ]
  },
  {
   "cell_type": "markdown",
   "metadata": {},
   "source": [
    "**Stub/Function:**"
   ]
  },
  {
   "cell_type": "code",
   "execution_count": null,
   "metadata": {},
   "outputs": [],
   "source": []
  },
  {
   "cell_type": "markdown",
   "metadata": {},
   "source": [
    "**Tests:**"
   ]
  },
  {
   "cell_type": "code",
   "execution_count": null,
   "metadata": {},
   "outputs": [],
   "source": []
  },
  {
   "cell_type": "markdown",
   "metadata": {},
   "source": [
    "### Reviewer comments"
   ]
  },
  {
   "cell_type": "code",
   "execution_count": null,
   "metadata": {},
   "outputs": [],
   "source": []
  },
  {
   "cell_type": "markdown",
   "metadata": {},
   "source": [
    "## Task 3\n",
    "\n",
    "Design a function called `rjc_email_address` that takes two parameters, `first_name` and `last_name`, which could be any combination of upper or lower case characters. The function will return a `str` which will represent that person's RJC email address in the standard RJC email address format of `{first_initial}{last_name}@rjc.ca`"
   ]
  },
  {
   "cell_type": "markdown",
   "metadata": {},
   "source": [
    "**Stub/Function:**"
   ]
  },
  {
   "cell_type": "code",
   "execution_count": null,
   "metadata": {},
   "outputs": [],
   "source": []
  },
  {
   "cell_type": "markdown",
   "metadata": {},
   "source": [
    "**Tests:**"
   ]
  },
  {
   "cell_type": "code",
   "execution_count": null,
   "metadata": {},
   "outputs": [],
   "source": []
  },
  {
   "cell_type": "markdown",
   "metadata": {},
   "source": [
    "### Reviewer comments"
   ]
  },
  {
   "cell_type": "code",
   "execution_count": null,
   "metadata": {},
   "outputs": [],
   "source": []
  },
  {
   "cell_type": "markdown",
   "metadata": {},
   "source": [
    "## Task 4\n",
    "\n",
    "Design a function called `num_of_tiles` that takes three numbers as arguments: `width`, `length`, and `size`. The function will calculate how many square tiles with sides of length `size` it will take to cover the floor of a room that measures `width` by `length`. The function can work in whatever units you prefer."
   ]
  },
  {
   "cell_type": "code",
   "execution_count": null,
   "metadata": {},
   "outputs": [],
   "source": []
  },
  {
   "cell_type": "markdown",
   "metadata": {},
   "source": [
    "**Stub/Function:**"
   ]
  },
  {
   "cell_type": "code",
   "execution_count": null,
   "metadata": {},
   "outputs": [],
   "source": []
  },
  {
   "cell_type": "markdown",
   "metadata": {},
   "source": [
    "**Tests:**"
   ]
  },
  {
   "cell_type": "markdown",
   "metadata": {},
   "source": [
    "### Reviewer Comments"
   ]
  },
  {
   "cell_type": "code",
   "execution_count": null,
   "metadata": {},
   "outputs": [],
   "source": []
  },
  {
   "cell_type": "markdown",
   "metadata": {},
   "source": [
    "## Task 5\n",
    "\n",
    "Design a function called `swap_column_dimensions` that takes a `str` and returns a `str`. The particular kind of string the function takes is one that describes a concrete column in a modeling program that looks like this: `\"COL200x400C35\"`. This represents a column that is 200 mm wide by 400 mm long and made of 35 MPa concrete.\n",
    "\n",
    "The function, `swap_column_dimensions`, would turn this input: `\"COL200x400C35\"` into this: `\"COL400x200C35\"`\n",
    "\n",
    "It should work on this column, too: `\"COL56x120C45\"`.\n",
    "\n",
    "Using string manipulation techniques you learned in Lesson 2, you may find there are multiple ways of doing this, all equally valid.\n"
   ]
  },
  {
   "cell_type": "markdown",
   "metadata": {},
   "source": [
    "**Stub/Function:**"
   ]
  },
  {
   "cell_type": "code",
   "execution_count": null,
   "metadata": {},
   "outputs": [],
   "source": []
  },
  {
   "cell_type": "markdown",
   "metadata": {},
   "source": [
    "**Tests:**"
   ]
  },
  {
   "cell_type": "code",
   "execution_count": null,
   "metadata": {},
   "outputs": [],
   "source": []
  },
  {
   "cell_type": "markdown",
   "metadata": {},
   "source": [
    "### Reviewer comments"
   ]
  },
  {
   "cell_type": "code",
   "execution_count": null,
   "metadata": {},
   "outputs": [],
   "source": []
  },
  {
   "cell_type": "markdown",
   "metadata": {},
   "source": [
    "## Task 6\n",
    "\n",
    "Design a function called `extract_filename` that takes a `str` and returns a `str`. The input strings are bits of data that contain file names amongst some other, somewhat consistent, gibberish data. The function is to extract the actual file name from amongst the garbage data surrounding it.\n",
    "\n",
    "Examples of inputs and outputs:\n",
    "\n",
    "```python\n",
    "\"000xrally_car.pdf-0\" # Output: rally_car.pdf\n",
    "\"8324xOctober_2020.jpg-894\" # Output: October_2020.jpg\n",
    "\"13xJonas_xray.gif-34\" # Jonas_xray.gif\n",
    "```\n",
    "\n",
    "Assume that these three examples are fully representative of the larger data set and that you can rely on any patterns that are shared between these bits of data.\n",
    "\n",
    "Using string manipulation techniques you learned in Lesson 02, implement `extract_filename` and write tests using the above examples.\n",
    "\n",
    "Helpful string methods that you have not used yet might be: `.find()`, `.index()`"
   ]
  },
  {
   "cell_type": "markdown",
   "metadata": {},
   "source": [
    "**Stub/Function:**"
   ]
  },
  {
   "cell_type": "code",
   "execution_count": null,
   "metadata": {},
   "outputs": [],
   "source": []
  },
  {
   "cell_type": "markdown",
   "metadata": {},
   "source": [
    "**Tests:**"
   ]
  },
  {
   "cell_type": "code",
   "execution_count": null,
   "metadata": {},
   "outputs": [],
   "source": []
  },
  {
   "cell_type": "markdown",
   "metadata": {},
   "source": [
    "### Reviewer comments"
   ]
  },
  {
   "cell_type": "code",
   "execution_count": null,
   "metadata": {},
   "outputs": [],
   "source": []
  },
  {
   "cell_type": "markdown",
   "metadata": {},
   "source": [
    "## Submit Workbook 03"
   ]
  },
  {
   "cell_type": "code",
   "execution_count": null,
   "metadata": {},
   "outputs": [],
   "source": []
  }
 ],
 "metadata": {
  "kernelspec": {
   "display_name": "Python 3",
   "language": "python",
   "name": "python3"
  },
  "language_info": {
   "codemirror_mode": {
    "name": "ipython",
    "version": 3
   },
   "file_extension": ".py",
   "mimetype": "text/x-python",
   "name": "python",
   "nbconvert_exporter": "python",
   "pygments_lexer": "ipython3",
   "version": "3.8.8"
  }
 },
 "nbformat": 4,
 "nbformat_minor": 4
}
