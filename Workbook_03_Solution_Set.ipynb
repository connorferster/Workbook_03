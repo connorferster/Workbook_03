{
 "cells": [
  {
   "cell_type": "code",
   "execution_count": 71,
   "metadata": {},
   "outputs": [],
   "source": [
    "from cs103 import expect, start_testing, summary"
   ]
  },
  {
   "cell_type": "markdown",
   "metadata": {},
   "source": [
    "## Task 1\n",
    "\n",
    "Design a function that takes four numbers as arguments, `a`, `b`, `c`, `d`. \n",
    "The function is to add `a`, `b`, `c`, `d` together and then divide that value by `4`. It will return a `float`.\n",
    "\n",
    "Call this function `mean_4`. \n",
    "\n",
    "* Start with the **stub** by writing the signature and the doc string\n",
    "* Follow this by writing three tests of expected outputs for expected inputs\n",
    "* Last, write the implementation of the function and make sure your tests pass"
   ]
  },
  {
   "cell_type": "markdown",
   "metadata": {},
   "source": [
    "**Stub/Function:**"
   ]
  },
  {
   "cell_type": "code",
   "execution_count": 72,
   "metadata": {},
   "outputs": [],
   "source": [
    "def mean_4(a: float, b: float, c: float, d: float) -> float:\n",
    "    \"\"\"\n",
    "    Returns the average of the four arguments.\n",
    "    \"\"\"\n",
    "    return (a + b + c + d) / 4"
   ]
  },
  {
   "cell_type": "markdown",
   "metadata": {},
   "source": [
    "**Tests:**"
   ]
  },
  {
   "cell_type": "code",
   "execution_count": 73,
   "metadata": {},
   "outputs": [
    {
     "name": "stdout",
     "output_type": "stream",
     "text": [
      "\u001b[92m3 of 3 tests passed\u001b[0m\n"
     ]
    }
   ],
   "source": [
    "start_testing() # Fill in your tests, here\n",
    "expect(mean_4(1., 2., 3., 4.), 2.5)\n",
    "expect(mean_4(-1., 2., 3., -4.), 0)\n",
    "expect(mean_4(1.5, 2., 3.5, 4.), 2.75)\n",
    "summary()"
   ]
  },
  {
   "cell_type": "markdown",
   "metadata": {},
   "source": [
    "### Reviewer comments"
   ]
  },
  {
   "cell_type": "code",
   "execution_count": null,
   "metadata": {},
   "outputs": [],
   "source": []
  },
  {
   "cell_type": "markdown",
   "metadata": {},
   "source": [
    "## Task 2\n",
    "\n",
    "Design a function called `loud` that takes two arguments, a `str` and an `int`. The function is to return the string in all caps with exclamation marks at the end. The number of exclamation marks is to be equal to the value of the `int` argument.\n",
    "\n",
    "An example input and output is given below:\n",
    "\n",
    "```python\n",
    "loud(\"hey, this is me\", 6)\n",
    "# \"HEY, THIS IS ME!!!!!!\"\n",
    "```\n",
    "\n",
    "Be sure to follow the same process as in Task 1 for this and all of the following tasks: first write the stub, then your tests, then write the implementation."
   ]
  },
  {
   "cell_type": "markdown",
   "metadata": {},
   "source": [
    "**Stub/Function:**"
   ]
  },
  {
   "cell_type": "code",
   "execution_count": 74,
   "metadata": {},
   "outputs": [],
   "source": [
    "def loud(s: int, excl: int) -> str:\n",
    "    \"\"\"\n",
    "    Returns the string, 's' in upper case with exclamatation\n",
    "    points added at the end, the number of which correspond\n",
    "    to 'excl'. 'excl' must be a positive integer.\n",
    "    \"\"\"\n",
    "    return f\"{s.upper()}{'!' * excl}\"\n",
    "\n",
    "\n",
    "# Another way\n",
    "\n",
    "def loud(s: int, excl: int) -> str:\n",
    "    \"\"\"\n",
    "    Returns the string, 's' in upper case with exclamatation\n",
    "    points added at the end, the number of which correspond\n",
    "    to 'excl'. 'excl' must be a positive integer.\n",
    "    \"\"\"\n",
    "    as_upper = s.upper()\n",
    "    loud_statement = as_upper + \"!\" * excl\n",
    "    return loud_statement"
   ]
  },
  {
   "cell_type": "markdown",
   "metadata": {},
   "source": [
    "**Tests:**"
   ]
  },
  {
   "cell_type": "code",
   "execution_count": 75,
   "metadata": {},
   "outputs": [
    {
     "name": "stdout",
     "output_type": "stream",
     "text": [
      "\u001b[92m3 of 3 tests passed\u001b[0m\n"
     ]
    }
   ],
   "source": [
    "start_testing()\n",
    "expect(loud(\"hellow\", 3), \"HELLOW!!!\")\n",
    "expect(loud(\"123 this has numbers\", 4), \"123 THIS HAS NUMBERS!!!!\")\n",
    "expect(loud(\"this has spaces\", 6), \"THIS HAS SPACES!!!!!!\")\n",
    "summary()"
   ]
  },
  {
   "cell_type": "markdown",
   "metadata": {},
   "source": [
    "### Reviewer comments"
   ]
  },
  {
   "cell_type": "code",
   "execution_count": null,
   "metadata": {},
   "outputs": [],
   "source": []
  },
  {
   "cell_type": "markdown",
   "metadata": {},
   "source": [
    "## Task 3\n",
    "\n",
    "Design a function called `rjc_email_address` that takes two parameters, `first_name` and `last_name`, which could be any combination of upper or lower case characters. The function will return a `str` which will represent that person's RJC email address in the standard RJC email address format of `{first_initial}{last_name}@rjc.ca`"
   ]
  },
  {
   "cell_type": "markdown",
   "metadata": {},
   "source": [
    "**Stub/Function:**"
   ]
  },
  {
   "cell_type": "code",
   "execution_count": 76,
   "metadata": {},
   "outputs": [],
   "source": [
    "def rjc_email_address(first_name: str, last_name: str) -> str:\n",
    "    \"\"\"\n",
    "    Returns a string representing a person's RJC email address in\n",
    "    the standard RJC email format of <first initial><last name>@rjc.ca.\n",
    "    The returned email address is in lowercase.\n",
    "    \"\"\"\n",
    "    return f\"{first_name[0]}{last_name}@rjc.ca\".lower()\n",
    "\n",
    "# Another way\n",
    "\n",
    "def rjc_email_address(first_name: str, last_name: str) -> str:\n",
    "    \"\"\"\n",
    "    Returns a string representing a person's RJC email address in\n",
    "    the standard RJC email format of <first initial><last name>@rjc.ca.\n",
    "    The returned email address is in lowercase.\n",
    "    \"\"\"\n",
    "    first_initial = first_name[0].lower()\n",
    "    last_name = last_name.lower() # You can \"overwrite\" your existing variable\n",
    "    return first_initial + last_name + \"@rjc.ca\"\n",
    "    "
   ]
  },
  {
   "cell_type": "markdown",
   "metadata": {},
   "source": [
    "**Tests:**"
   ]
  },
  {
   "cell_type": "code",
   "execution_count": 77,
   "metadata": {},
   "outputs": [
    {
     "name": "stdout",
     "output_type": "stream",
     "text": [
      "\u001b[92m3 of 3 tests passed\u001b[0m\n"
     ]
    }
   ],
   "source": [
    "start_testing()\n",
    "expect(rjc_email_address(\"name\", \"lastname\"), \"nlastname@rjc.ca\")\n",
    "expect(rjc_email_address(\"name\", \"lastname\"), \"nlastname@rjc.ca\")\n",
    "expect(rjc_email_address(\"name\", \"lastname\"), \"nlastname@rjc.ca\")\n",
    "summary()"
   ]
  },
  {
   "cell_type": "markdown",
   "metadata": {},
   "source": [
    "### Reviewer comments"
   ]
  },
  {
   "cell_type": "code",
   "execution_count": null,
   "metadata": {},
   "outputs": [],
   "source": []
  },
  {
   "cell_type": "markdown",
   "metadata": {},
   "source": [
    "## Task 4\n",
    "\n",
    "Design a function called `num_of_tiles` that takes three numbers as arguments: `width`, `length`, and `size`. The function will calculate how many square tiles with sides of length `size` it will take to cover the floor of a room that measures `width` by `length`. The function can work in whatever units you prefer."
   ]
  },
  {
   "cell_type": "markdown",
   "metadata": {},
   "source": [
    "**Stub/Function:**"
   ]
  },
  {
   "cell_type": "code",
   "execution_count": 78,
   "metadata": {},
   "outputs": [],
   "source": [
    "# A simple way (note the signature: returns a float)\n",
    "def num_of_tiles(width: float, length: float, size: float) -> float:\n",
    "    \"\"\"\n",
    "    Returns the fractional number of square tiles with side length of 'size' that\n",
    "    it would take to fill a room of 'width' x 'length', where the units\n",
    "    that are used in 'size', 'width', and 'length' are the same.\n",
    "    \n",
    "    All arguments should be positive values\n",
    "    \"\"\"\n",
    "    return (width * length) / size**2\n",
    "\n",
    "\n",
    "# With a \"round up\" using the math module\n",
    "# Note the change in signature: returns an int\n",
    "import math\n",
    "\n",
    "def num_of_tiles(width: float, length: float, size: float) -> int:\n",
    "    \"\"\"\n",
    "    Returns the whole number of square tiles with side length of 'size' that\n",
    "    it would take to fill a room of 'width' x 'length', where the units\n",
    "    that are used in 'size', 'width', and 'length' are the same.\n",
    "    \n",
    "    All arguments should be positive values\n",
    "    \"\"\"\n",
    "    return math.ceil(width * length / size**2)\n",
    "\n",
    "\n",
    "# Performing the \"round up\" using only operators and functions we\n",
    "# have covered in lessons (kinda fancy)\n",
    "\n",
    "def num_of_tiles(width: float, length: float, size: float) -> int:\n",
    "    \"\"\"\n",
    "    Returns the number of whole square tiles with side length of 'size' that\n",
    "    it would take to fill a room of 'width' x 'length', where the units\n",
    "    that are used in 'size', 'width', and 'length' are the same.\n",
    "    \n",
    "    All arguments should be positive values\n",
    "    \"\"\"\n",
    "    whole_tiles = (width * length) // size**2 # Floor division gives the integer quotient\n",
    "    partial_tiles = (width * length) % size**2 # The modulo operator gives the remainder as an int\n",
    "    \n",
    "    # When remainder is 0, one_extra_tile becomes False (equivalent to the int, 0)\n",
    "    # When remainder is any other value, one_extra_tile becomes True (equivalent to the int, 1)\n",
    "    one_extra_tile = bool(partial_tiles)\n",
    "    \n",
    "    return whole_tiles + one_extra_tile"
   ]
  },
  {
   "cell_type": "markdown",
   "metadata": {},
   "source": [
    "**Tests:**"
   ]
  },
  {
   "cell_type": "code",
   "execution_count": 79,
   "metadata": {},
   "outputs": [
    {
     "name": "stdout",
     "output_type": "stream",
     "text": [
      "\u001b[92m3 of 3 tests passed\u001b[0m\n"
     ]
    }
   ],
   "source": [
    "start_testing() # Just testing the \"round up\" versions\n",
    "expect(num_of_tiles(10, 20, 4), 13)\n",
    "expect(num_of_tiles(10, 20, 5.5), 7)\n",
    "expect(num_of_tiles(10, 20, 1), 200)\n",
    "summary()"
   ]
  },
  {
   "cell_type": "markdown",
   "metadata": {},
   "source": [
    "### Reviewer Comments"
   ]
  },
  {
   "cell_type": "code",
   "execution_count": null,
   "metadata": {},
   "outputs": [],
   "source": []
  },
  {
   "cell_type": "markdown",
   "metadata": {},
   "source": [
    "## Task 5\n",
    "\n",
    "Design a function called `swap_column_dimensions` that takes a `str` and returns a `str`. The particular kind of string the function takes is one that describes a concrete column in a modeling program that looks like this: `\"COL200x400C35\"`. This represents a column that is 200 mm wide by 400 mm long and made of 35 MPa concrete.\n",
    "\n",
    "The function, `swap_column_dimensions`, would turn this input: `\"COL200x400C35\"` into this: `\"COL400x200C35\"`\n",
    "\n",
    "It should work on this column, too: `\"COL56x120C45\"`.\n",
    "\n",
    "Using string manipulation techniques you learned in Lesson 2, you may find there are multiple ways of doing this, all equally valid.\n"
   ]
  },
  {
   "cell_type": "markdown",
   "metadata": {},
   "source": [
    "**Stub/Function:**"
   ]
  },
  {
   "cell_type": "code",
   "execution_count": 80,
   "metadata": {},
   "outputs": [],
   "source": [
    "def swap_column_dimensions(column_spec: str) -> str:\n",
    "    \"\"\"\n",
    "    Returns 'column_spec' with it's dimensions swapped, where\n",
    "    'column_spec' is a string in the format of:\n",
    "    COL<X_num>x<Y_num>C<fc> representing a column\n",
    "    that is X_num wide by Y_num long with a concrete strength\n",
    "    of fc.\n",
    "    \n",
    "    Example: \n",
    "    COL34x109C40 -> COL109x34C40\n",
    "    \"\"\"\n",
    "    # First find where all the pieces occur\n",
    "    x_num_start = column_spec.find('L') + 1 # The \"L\" in \"COL\"\n",
    "    by = column_spec.find(\"x\")\n",
    "    fc_spec_start = column_spec.rfind(\"C\") # Reverse find: first occurence of \"C\", from the back\n",
    "    \n",
    "    # Then use the location indexes to get the pieces\n",
    "    x_num = column_spec[x_num_start:by]\n",
    "    y_num = column_spec[by + 1: fc_spec_start]\n",
    "    fc_spec = column_spec[fc_spec_start:]\n",
    "    \n",
    "    # Last put the pieces together in a new string\n",
    "    return f\"COL{y_num}x{x_num}{fc_spec}\"\n",
    "\n",
    "\n",
    "    \n",
    "# Another Way, using .split() \n",
    "\n",
    "def swap_column_dimensions(column_spec: str) -> str:\n",
    "    \"\"\"\n",
    "    Returns 'column_spec' with it's dimensions swapped, where\n",
    "    'column_spec' is a string in the format of:\n",
    "    COL<X_num>x<Y_num>C<fc> representing a column\n",
    "    that is X_num wide by Y_num long with a concrete strength\n",
    "    of fc.\n",
    "    \n",
    "    Example: \n",
    "    COL34x109C40 -> COL109x34C40\n",
    "    \"\"\"\n",
    "    first_half = column_spec.split(\"x\")[0] # eg. \"COL34\"\n",
    "    second_half = column_spec.split(\"x\")[1] # e.g. \"109C40\"\n",
    "    \n",
    "    x_num = first_half.replace(\"COL\", \"\")\n",
    "    y_num = second_half.split(\"C\")[0]\n",
    "    fc = second_half.split(\"C\")[1]\n",
    "    \n",
    "    # Last put the pieces together in a new string\n",
    "    return f\"COL{y_num}x{x_num}C{fc}\""
   ]
  },
  {
   "cell_type": "markdown",
   "metadata": {},
   "source": [
    "**Tests:**"
   ]
  },
  {
   "cell_type": "code",
   "execution_count": 81,
   "metadata": {},
   "outputs": [
    {
     "name": "stdout",
     "output_type": "stream",
     "text": [
      "\u001b[92m3 of 3 tests passed\u001b[0m\n"
     ]
    }
   ],
   "source": [
    "start_testing()\n",
    "expect(swap_column_dimensions(\"COL23x109C40\"), \"COL109x23C40\")\n",
    "expect(swap_column_dimensions(\"COL230x109C40\"), \"COL109x230C40\")\n",
    "expect(swap_column_dimensions(\"COL21233x23C40\"), \"COL23x21233C40\")\n",
    "summary()"
   ]
  },
  {
   "cell_type": "markdown",
   "metadata": {},
   "source": [
    "### Reviewer comments"
   ]
  },
  {
   "cell_type": "code",
   "execution_count": null,
   "metadata": {},
   "outputs": [],
   "source": []
  },
  {
   "cell_type": "markdown",
   "metadata": {},
   "source": [
    "## Task 6\n",
    "\n",
    "Design a function called `extract_filename` that takes a `str` and returns a `str`. The input strings are bits of data that contain file names amongst some other, somewhat consistent, gibberish data. The function is to extract the actual file name from amongst the garbage data surrounding it.\n",
    "\n",
    "Examples of inputs and outputs:\n",
    "\n",
    "```python\n",
    "\"000xrally_car.pdf-0\" # Output: rally_car.pdf\n",
    "\"8324xOctober_2020.jpg-894\" # Output: October_2020.jpg\n",
    "\"13xJonas_xray.gif-34\" # Jonas_xray.gif\n",
    "```\n",
    "\n",
    "Assume that these three examples are fully representative of the larger data set and that you can rely on any patterns that are shared between these bits of data.\n",
    "\n",
    "Using string manipulation techniques you learned in Lesson 02, implement `extract_filename` and write tests using the above examples.\n",
    "\n",
    "Helpful string methods that you have not used yet might be: `.find()`, `.index()`"
   ]
  },
  {
   "cell_type": "markdown",
   "metadata": {},
   "source": [
    "**Stub/Function:**"
   ]
  },
  {
   "cell_type": "code",
   "execution_count": 82,
   "metadata": {},
   "outputs": [],
   "source": [
    "def extract_filename(obscured_filename: str) -> str:\n",
    "    \"\"\"\n",
    "    Returns a str representing the hidden filename contained within\n",
    "    'obscured_filename'. The assumption is that the actual filename is \n",
    "    between the first \"x\" and the last \"-\" in the input string.\n",
    "    \n",
    "    e.g.\n",
    "    \"000xrally_car.pdf-0\" -> \"rally_car.pdf\"\n",
    "    \"\"\"\n",
    "    # Find where the filename starts and ends\n",
    "    filename_start = obscured_filename.find(\"x\")\n",
    "    filename_end = obscured_filename.rfind(\"-\")\n",
    "    \n",
    "    return obscured_filename[filename_start + 1:filename_end]\n",
    "\n",
    "\n",
    "\n",
    "\n",
    "## Another way, using .split() and replace()\n",
    "\n",
    "def extract_filename(obscured_filename: str) -> str:\n",
    "    \"\"\"\n",
    "    Returns a str representing the hidden filename contained within\n",
    "    'obscured_filename'. The assumption is that the actual filename is \n",
    "    between the first \"x\" and the last \"-\" in the input string.\n",
    "    \n",
    "    e.g.\n",
    "    \"8324xOctober_2020.jpg-894\" -> \"October_2020.jpg\"\n",
    "    \"\"\"\n",
    "    # Get the junk we don't need\n",
    "    preamble = obscured_filename.split(\"x\")[0] # e.g. \"8324\"\n",
    "    postamble = obscured_filename.split(\"-\")[1] # \"894\"\n",
    "    \n",
    "    # And remove it from the string\n",
    "    filename = obscured_filename.replace(preamble + \"x\", \"\").replace(\"-\" + postamble, \"\")\n",
    "    \n",
    "    return filename"
   ]
  },
  {
   "cell_type": "markdown",
   "metadata": {},
   "source": [
    "**Tests:**"
   ]
  },
  {
   "cell_type": "code",
   "execution_count": 83,
   "metadata": {},
   "outputs": [
    {
     "name": "stdout",
     "output_type": "stream",
     "text": [
      "\u001b[92m3 of 3 tests passed\u001b[0m\n"
     ]
    }
   ],
   "source": [
    "start_testing()\n",
    "expect(extract_filename(\"000xrally_car.pdf-0\"), \"rally_car.pdf\")\n",
    "expect(extract_filename(\"8324xOctober_2020.jpg-894\"), \"October_2020.jpg\")\n",
    "expect(extract_filename(\"13xJonas_xray.gif-34\"), \"Jonas_xray.gif\")\n",
    "summary()"
   ]
  },
  {
   "cell_type": "markdown",
   "metadata": {},
   "source": [
    "### Reviewer comments"
   ]
  },
  {
   "cell_type": "code",
   "execution_count": null,
   "metadata": {},
   "outputs": [],
   "source": []
  },
  {
   "cell_type": "markdown",
   "metadata": {},
   "source": [
    "## Submit Workbook 03 🐦\n",
    "\n",
    "If you have any trouble with the `submit_workbook()` function, you can email your workbook to me manually."
   ]
  },
  {
   "cell_type": "code",
   "execution_count": 84,
   "metadata": {},
   "outputs": [],
   "source": [
    "#python_course.submit_workbook(\"Workbook_03 Submission\", \"cferster@rjc.ca\", cc_me=True)"
   ]
  }
 ],
 "metadata": {
  "kernelspec": {
   "display_name": "Python 3",
   "language": "python",
   "name": "python3"
  },
  "language_info": {
   "codemirror_mode": {
    "name": "ipython",
    "version": 3
   },
   "file_extension": ".py",
   "mimetype": "text/x-python",
   "name": "python",
   "nbconvert_exporter": "python",
   "pygments_lexer": "ipython3",
   "version": "3.7.10"
  }
 },
 "nbformat": 4,
 "nbformat_minor": 4
}
