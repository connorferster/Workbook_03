{
 "cells": [
  {
   "cell_type": "code",
   "execution_count": 6,
   "metadata": {},
   "outputs": [],
   "source": [
    "import python_course\n",
    "from cs103 import start_testing, summary, expect\n",
    "from typing import List"
   ]
  },
  {
   "cell_type": "markdown",
   "metadata": {},
   "source": [
    "## Task 1\n",
    "\n",
    "Design a function called `remove_empty_strings` that takes a list of strings and returns a list of strings. The function will return the input list with all empty strings removed. One test list has been provided for you. Add a second one to replace `LOS_2`, with test strings of your choice. "
   ]
  },
  {
   "cell_type": "markdown",
   "metadata": {},
   "source": [
    "### Data"
   ]
  },
  {
   "cell_type": "code",
   "execution_count": 7,
   "metadata": {},
   "outputs": [],
   "source": [
    "screen_savers = [\"Starry Night\", \"Flying Toasters\", \"\", \"Bad Dog\", \"\", \"Boris\", \"\", \"Satori\", \"Zot\", \"\"]\n",
    "LOS_2 = [..]\n"
   ]
  },
  {
   "cell_type": "markdown",
   "metadata": {},
   "source": [
    "**Stub/Function:**"
   ]
  },
  {
   "cell_type": "code",
   "execution_count": 8,
   "metadata": {},
   "outputs": [],
   "source": [
    "def remove_empty_strings(los: List[str]) -> List[str]: # To get you started\n",
    "    pass"
   ]
  },
  {
   "cell_type": "markdown",
   "metadata": {},
   "source": [
    "**Tests:**"
   ]
  },
  {
   "cell_type": "code",
   "execution_count": null,
   "metadata": {},
   "outputs": [],
   "source": [
    "start_testing() # Fill in your tests, here\n",
    "expect(remove_empty_strings(LOS_1), ...)\n",
    "expect(remove_empty_strings(LOS_2), ...)\n",
    "summary()"
   ]
  },
  {
   "cell_type": "markdown",
   "metadata": {},
   "source": [
    "### Reviewer comments"
   ]
  },
  {
   "cell_type": "code",
   "execution_count": null,
   "metadata": {},
   "outputs": [],
   "source": []
  },
  {
   "cell_type": "markdown",
   "metadata": {},
   "source": [
    "## Task 2\n",
    "\n",
    "Below are lists of strings that represent solar eclipses that have occurred within the last twenty years. The lists are just samples of a much longer list. \n",
    "\n",
    "Design a function called `count_eclipses`, that accepts two `str` and one `list` as arguments and returns an `int`. The `list` is one of the list of eclipses below. The first string is numeric and represents the month of the year (e.g. `\"03\"` for March) and the second string is the type of eclispe, one of either `\"Annular\"`, `\"Partial\"`, or `\"Total\"`.\n",
    "\n",
    "The function is to return the number of eclipses that have occured in the month and type given. It should return `0` if the combinations are not found in the list."
   ]
  },
  {
   "cell_type": "markdown",
   "metadata": {},
   "source": [
    "**Data**"
   ]
  },
  {
   "cell_type": "code",
   "execution_count": null,
   "metadata": {},
   "outputs": [],
   "source": [
    "eclipses_1 = [\"2009-01-26, Annular\", \"2009-07-22, Total\", \"2010-01-15, Annular\", \"2010-07-11, Total\", \"2011-01-04, Partial\"]\n",
    "eclipses_2 = [\"2018-02-15, Partial\", \"2018-07-13, Partial\", \"2018-08-11, Partial\", \"2019-01-06, Partial\", \"2019-07-02, Total\"]"
   ]
  },
  {
   "cell_type": "markdown",
   "metadata": {},
   "source": [
    "**Stub/Function:**"
   ]
  },
  {
   "cell_type": "code",
   "execution_count": null,
   "metadata": {},
   "outputs": [],
   "source": []
  },
  {
   "cell_type": "markdown",
   "metadata": {},
   "source": [
    "**Tests:**"
   ]
  },
  {
   "cell_type": "code",
   "execution_count": null,
   "metadata": {},
   "outputs": [],
   "source": []
  },
  {
   "cell_type": "markdown",
   "metadata": {},
   "source": [
    "### Reviewer comments"
   ]
  },
  {
   "cell_type": "code",
   "execution_count": null,
   "metadata": {},
   "outputs": [],
   "source": []
  },
  {
   "cell_type": "markdown",
   "metadata": {},
   "source": [
    "## Task 3\n",
    "\n",
    "Design a function that takes one argument, a `list` of `str`. The list represents a collection of file names of unknown filetype. You are trying to assign file types to them so they can be opened readily. From your own investigations, you think that all the files that _do not_ start with numbers are `.pdf` files.\n",
    "\n",
    "The function is to append the `\".pdf\"` file extension to the file names in `file_names1` and `file_names2` that match the criteria you have identified. It should also filter out the file names that do not pass the criteria so that your output list is only the new file names that end in `.pdf`\n",
    "\n",
    "Notice, that there are some empty strings in your lists of file names. Since they don't start with a number, they might get a `.pdf` file extension added to them when they maybe should not. To prevent this, use the function you created in **Task 1** to filter out the empty strings, first."
   ]
  },
  {
   "cell_type": "markdown",
   "metadata": {},
   "source": [
    "**Data:**"
   ]
  },
  {
   "cell_type": "code",
   "execution_count": 9,
   "metadata": {},
   "outputs": [],
   "source": [
    "file_names1 = [\"12-NorthFeast\", \"smorg_as_a_board\", \"\", \"73-VirtuallyImprobable\", \"Big_sugar_maple\"]\n",
    "file_names2 = [\"131-PleatsPlease\", \"Fifty_ways_to_eat_a_clover\", \"\", \"13-FourSpotBricBrac\", \"country_hoodies\"]"
   ]
  },
  {
   "cell_type": "markdown",
   "metadata": {},
   "source": [
    "**Stub/Function:**"
   ]
  },
  {
   "cell_type": "code",
   "execution_count": null,
   "metadata": {},
   "outputs": [],
   "source": []
  },
  {
   "cell_type": "markdown",
   "metadata": {},
   "source": [
    "**Tests:**"
   ]
  },
  {
   "cell_type": "code",
   "execution_count": null,
   "metadata": {},
   "outputs": [],
   "source": []
  },
  {
   "cell_type": "markdown",
   "metadata": {},
   "source": [
    "### Reviewer comments"
   ]
  },
  {
   "cell_type": "code",
   "execution_count": null,
   "metadata": {},
   "outputs": [],
   "source": []
  },
  {
   "cell_type": "markdown",
   "metadata": {},
   "source": [
    "## Task 4\n",
    "\n",
    "Design a function that takes two arguments, a `list` and a `str`.\n",
    "The `list` will be a list of lists, like the one given below in `interaction_A` and `interaction_B`. The `str` will be one of either `\"+\"` or `\"-\"`. The function will return a `list` of lists (similar to the input list).\n",
    "\n",
    "The function will return only those elements in the list whose value in the `1` position (i.e. the middle value) are either positive or negative, as corresponds with the `str` argument. If the value is `0`, it should be considered as a positive number.\n",
    "\n",
    "Because the data is a `list` of lists, your function will need to use a double `for...in` loop."
   ]
  },
  {
   "cell_type": "markdown",
   "metadata": {},
   "source": [
    "**Data:**"
   ]
  },
  {
   "cell_type": "code",
   "execution_count": 11,
   "metadata": {},
   "outputs": [],
   "source": [
    "interaction_A = [\n",
    "    [\"A\", 3000, 20000],\n",
    "    [\"B\", 2500, 25000],\n",
    "    [\"C\", 2000, 28000],\n",
    "    [\"D\", 1500, 24000],\n",
    "    [\"E\", 1000, 12000],\n",
    "    [\"F\", 500, 6000],\n",
    "    [\"G\", 0, 4000],\n",
    "    [\"H\", -500, 1000],\n",
    "    [\"I\", -1000, 0]\n",
    "]\n",
    "\n",
    "interaction_B = [\n",
    "    [\"A\", 6000, 120000],\n",
    "    [\"B\", 5000, 160000],\n",
    "    [\"C\", 4000, 180000],\n",
    "    [\"D\", 3000, 160000],\n",
    "    [\"E\", 2000, 80000],\n",
    "    [\"F\", 1000, 40000],\n",
    "    [\"G\", 0, 30000],\n",
    "    [\"H\", -1000, 15000],\n",
    "    [\"I\", -2000, 5000],\n",
    "    [\"J\", -3000, 0]\n",
    "]"
   ]
  },
  {
   "cell_type": "markdown",
   "metadata": {},
   "source": [
    "**Stub/Function:**"
   ]
  },
  {
   "cell_type": "code",
   "execution_count": null,
   "metadata": {},
   "outputs": [],
   "source": []
  },
  {
   "cell_type": "markdown",
   "metadata": {},
   "source": [
    "**Tests:**"
   ]
  },
  {
   "cell_type": "code",
   "execution_count": null,
   "metadata": {},
   "outputs": [],
   "source": []
  },
  {
   "cell_type": "markdown",
   "metadata": {},
   "source": [
    "### Reviewer Comments"
   ]
  },
  {
   "cell_type": "code",
   "execution_count": null,
   "metadata": {},
   "outputs": [],
   "source": []
  },
  {
   "cell_type": "markdown",
   "metadata": {},
   "source": [
    "## Task 5\n",
    "\n",
    "Using the data in `interaction_A` and `interaction_B`, design a new function that takes a `list` of lists and a `float` as arguments. The function will return a `list `of lists that represent the list items whose values in the `2` position (i.e. the last position) are less than the value given in the `float` argument. If no list values are found that match the criteria, an empty list should be returned.\n",
    "\n",
    "Bonus - run the two functions on the original interaction data in a sequence to filter the data first by pos/neg then by a maximum threshold value."
   ]
  },
  {
   "cell_type": "markdown",
   "metadata": {},
   "source": [
    "**Stub/Function:**"
   ]
  },
  {
   "cell_type": "code",
   "execution_count": null,
   "metadata": {},
   "outputs": [],
   "source": []
  },
  {
   "cell_type": "markdown",
   "metadata": {},
   "source": [
    "**Tests:**"
   ]
  },
  {
   "cell_type": "code",
   "execution_count": null,
   "metadata": {},
   "outputs": [],
   "source": []
  },
  {
   "cell_type": "markdown",
   "metadata": {},
   "source": [
    "### Reviewer comments"
   ]
  },
  {
   "cell_type": "code",
   "execution_count": null,
   "metadata": {},
   "outputs": [],
   "source": []
  },
  {
   "cell_type": "markdown",
   "metadata": {},
   "source": [
    "## Task 6\n",
    "\n",
    "Design a function that takes one argument, a `list` of `str`. Assuming that the items in the list represent a summer camp activity, each lasting one full day, and assuming the summer camp always starts on a Monday, your function should append to the front of each list item, the day of the week on which it is to occur, e.g.\n",
    "\n",
    "```python\n",
    "[\"Monday - Ice breaker\", \"Tuesday - Capture the flag\", ...]\n",
    "```\n",
    "\n",
    "To accomplish this, in your function, start by creating a list of days of the week: `[\"Monday\", \"Tuesday\", ..., \"Sunday\"]` (your list should only be seven elements long).\n",
    "\n",
    "As you loop through all of the activities, you will likely need to use the `enumerate()` function. You may also find that the Python \"modulo\" operator, `%`, is useful.\n",
    "\n",
    "Bonus: Once you have completed the function in Task 6, alter the function so it takes an additional argument, `start_on: int`, that allows the camp activities to start on any day of the week (not just Monday)."
   ]
  },
  {
   "cell_type": "markdown",
   "metadata": {},
   "source": [
    "**Data:**"
   ]
  },
  {
   "cell_type": "code",
   "execution_count": 12,
   "metadata": {},
   "outputs": [],
   "source": [
    "summer_camp_events_july = [\n",
    "    \"Ice breaker\",\n",
    "    \"Capture the flag\", \n",
    "    \"Pottery\",\n",
    "    \"Canoeing\",\n",
    "    \"Nature walk\",\n",
    "    \"Animal Game\",\n",
    "    \"Seed collecting\",\n",
    "    \"Orienteering\",\n",
    "    \"Cabin Building 1\",\n",
    "    \"Cabin Building 2\",\n",
    "    \"Talent Show\"\n",
    "]"
   ]
  },
  {
   "cell_type": "markdown",
   "metadata": {},
   "source": [
    "**Stub/Function:**"
   ]
  },
  {
   "cell_type": "code",
   "execution_count": null,
   "metadata": {},
   "outputs": [],
   "source": []
  },
  {
   "cell_type": "markdown",
   "metadata": {},
   "source": [
    "**Tests:**"
   ]
  },
  {
   "cell_type": "code",
   "execution_count": null,
   "metadata": {},
   "outputs": [],
   "source": []
  },
  {
   "cell_type": "markdown",
   "metadata": {},
   "source": [
    "### Reviewer comments"
   ]
  },
  {
   "cell_type": "code",
   "execution_count": null,
   "metadata": {},
   "outputs": [],
   "source": []
  },
  {
   "cell_type": "markdown",
   "metadata": {},
   "source": [
    "## Submit Workbook 🛶\n",
    "\n",
    "Congratulations on completing Workbook 04! You now know the basics of how to be productive in Python: working with numbers, manipulating strings and lists, using `if...elif...else`, writing loops (double loops, even), writing well-documented functions, and even unit-testing your own functions!\n",
    "\n",
    "Over the next three weeks, you will learn how to build on this foundation by learning some more tools (`set`, `dict`, `tuple`), designing your own custom data types, and how to bring all of this together into your first analysis program.\n",
    "\n",
    "Nice work!🤩"
   ]
  },
  {
   "cell_type": "code",
   "execution_count": null,
   "metadata": {},
   "outputs": [],
   "source": [
    "#python_course.submit_workbook(\"Workbook_04\", \"cferster@rjc.ca\", cc_me=True)"
   ]
  }
 ],
 "metadata": {
  "kernelspec": {
   "display_name": "Python 3",
   "language": "python",
   "name": "python3"
  },
  "language_info": {
   "codemirror_mode": {
    "name": "ipython",
    "version": 3
   },
   "file_extension": ".py",
   "mimetype": "text/x-python",
   "name": "python",
   "nbconvert_exporter": "python",
   "pygments_lexer": "ipython3",
   "version": "3.8.8"
  }
 },
 "nbformat": 4,
 "nbformat_minor": 4
}
